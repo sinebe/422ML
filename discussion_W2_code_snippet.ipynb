{
 "cells": [
  {
   "cell_type": "code",
   "execution_count": 25,
   "metadata": {},
   "outputs": [],
   "source": [
    "# external libraries for visualizations and data manipulation\n",
    "# ensure that these packages have been installed prior to calls\n",
    "import pandas as pd  # data frame operations  \n",
    "import numpy as np  # arrays and math functions\n",
    "import matplotlib.pyplot as plt  # static plotting\n",
    "import seaborn as sns  # pretty plotting, including heat map\n",
    "np.set_printoptions(precision=3)\n",
    "\n",
    "import os\n",
    "os.getcwd()\n",
    "os.chdir('C:\\\\Users\\\\enisbe\\\\Google Drive New\\\\NW\\\\MSDS 422\\\\Data\\\\')\n",
    "covid = pd.read_csv('COVID19_4122020.csv')\n",
    "pd.options.display.float_format = '{:.3f}'.format\n",
    "sns.set()"
   ]
  },
  {
   "cell_type": "code",
   "execution_count": 26,
   "metadata": {},
   "outputs": [],
   "source": [
    "#Convert date to pandas date\n",
    "covid.Date = pd.to_datetime(covid.Date,format=\"%m/%d/%Y\")\n",
    "\n",
    "\n",
    "\n",
    "#To simplfy the analysis we will take only first 15 state that have the largest \n",
    "summary_of_case = pd.Series(covid.groupby('geoId')['cases'].sum().transform(pd.Series.sort_values, ascending=False))\n",
    "summary_of_case = pd.DataFrame(summary_of_case).reset_index()\n",
    "listFilter = summary_of_case.geoId.tolist()\n",
    "listFilter =listFilter[0:15]\n",
    "covid = covid[covid['geoId'].isin(listFilter)] \n",
    "\n",
    "#create some variables transformations such as cases per million, death per million, empirical double time for deaths and cases \n",
    "\n",
    "covid = covid.sort_values(by=['geoId','Date'], ascending=[False,True])\n",
    "covid['cum_cases'] = covid.groupby('geoId')['cases'].cumsum()\n",
    "covid['cum_deaths'] = covid.groupby('geoId')['deaths'].cumsum()\n",
    "covid['mortality_rate'] = covid['cum_deaths']/covid['cum_cases'] \n",
    "covid['case_change']=covid.groupby(['geoId'])['cum_cases'].pct_change()\n",
    "covid['death_change']=covid.groupby(['geoId'])['cum_deaths'].pct_change()\n",
    "covid['case_change']=covid.case_change.fillna(0)\n",
    "covid['death_change']=covid.death_change.fillna(0)\n",
    "covid['case_change_roll3']= covid.case_change.rolling(3 ).mean()\n",
    "covid['death_change_roll3']= covid.death_change.rolling(3 ).mean()\n",
    "covid['case_change_roll3']=covid.case_change.fillna(0)\n",
    "covid['death_change_roll3']=covid.death_change.fillna(0)\n",
    "covid['double_time_case']  = 1/covid.case_change_roll3\n",
    "covid['double_time_deaths']  = 1/covid.death_change_roll3\n",
    "covid['cum_cases_per_million'] = covid['cum_cases']/(covid['popData2018']/1000000)\n",
    "covid['new_cases_per_million'] = covid['cases']/(covid['popData2018']/1000000)\n",
    "covid['cum_death_per_million'] = covid['cum_deaths']/(covid['popData2018']/1000000)\n",
    "covid['new_death_per_million'] = covid['deaths']/(covid['popData2018']/1000000)\n",
    "covid.replace([np.inf, -np.inf], np.nan,inplace=True)\n",
    "\n",
    " \n",
    "covid.replace([np.inf, -np.inf], np.nan,inplace=True)\n",
    "\n",
    "\n",
    "import copy\n",
    "covid_gt100 = covid.copy() \n",
    "covid_gt100 = covid_gt100[covid_gt100.cum_cases >=100]\n",
    "covid_gt100['days_since_100']= covid_gt100.groupby('geoId').cumcount()\n"
   ]
  },
  {
   "cell_type": "code",
   "execution_count": 27,
   "metadata": {},
   "outputs": [
    {
     "name": "stdout",
     "output_type": "stream",
     "text": [
      "----------  Average Cases per Million ----------------\n",
      "592.0 \n",
      "\n",
      "----------  Average Deaths per Million ----------------\n",
      "40.0 \n",
      "\n"
     ]
    },
    {
     "data": {
      "text/plain": [
       "Text(0.5, 1.0, 'Cases per million by Country')"
      ]
     },
     "execution_count": 27,
     "metadata": {},
     "output_type": "execute_result"
    },
    {
     "data": {
      "image/png": "[encoded data removed]",
      "text/plain": [
       "<Figure size 432x288 with 1 Axes>"
      ]
     },
     "metadata": {},
     "output_type": "display_data"
    }
   ],
   "source": [
    "df_deaths= pd.DataFrame(covid.groupby('countryterritoryCode')['cum_death_per_million'].max().transform(pd.Series.sort_values,ascending=False)).reset_index()\n",
    "df_cases = pd.DataFrame(covid.groupby('countryterritoryCode')['cum_cases_per_million'].max().transform(pd.Series.sort_values,ascending=False)).reset_index()\n",
    "\n",
    "total_pop = covid.groupby('countryterritoryCode')['popData2018'].max().sum()\n",
    "\n",
    "print(\"----------  Average Cases per Million ----------------\")\n",
    "print(round(covid['cases'].sum()/(total_pop/1000000),0), \"\\n\")\n",
    " \n",
    "print(\"----------  Average Deaths per Million ----------------\")\n",
    "print(round(covid['deaths'].sum()/(total_pop/1000000),0), \"\\n\")\n",
    "\n",
    "f, ax = plt.subplots()\n",
    "sns.set_color_codes(\"pastel\")\n",
    "sns.barplot(x=\"cum_cases_per_million\", y=\"countryterritoryCode\", data=df_cases,label=\"Cases\", color=\"b\")\n",
    "ax.legend(ncol=2, loc=\"lower right\", frameon=True)\n",
    "ax.set(ylabel=\"\", xlabel=\"Cases per million\")\n",
    "plt.title(\"Cases per million by Country\")"
   ]
  }
 ],
 "metadata": {
  "kernelspec": {
   "display_name": "Python 3",
   "language": "python",
   "name": "python3"
  },
  "language_info": {
   "codemirror_mode": {
    "name": "ipython",
    "version": 3
   },
   "file_extension": ".py",
   "mimetype": "text/x-python",
   "name": "python",
   "nbconvert_exporter": "python",
   "pygments_lexer": "ipython3",
   "version": "3.5.2"
  }
 },
 "nbformat": 4,
 "nbformat_minor": 2
}
